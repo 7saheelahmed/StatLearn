{
 "cells": [
  {
   "cell_type": "markdown",
   "metadata": {},
   "source": [
    "### SVD (Singular Value Decompostion)\n",
    "\n",
    "* An application of linear algebric algorithm SVD used in dimensionality reduction."
   ]
  },
  {
   "cell_type": "code",
   "execution_count": 2,
   "metadata": {},
   "outputs": [],
   "source": [
    "#importing libraries\n",
    "import pandas as pd\n",
    "import numpy as np\n",
    "from scipy.linalg import svd"
   ]
  },
  {
   "cell_type": "code",
   "execution_count": 4,
   "metadata": {},
   "outputs": [],
   "source": [
    "# random matrix data\n",
    "A = np.array([[1,2,3,4,5,6,7,8,9,10],\n",
    "        [11,12,13,14,15,16,17,18,19,20],\n",
    "        [21,22,23,24,25,26,27,28,29,30]])"
   ]
  },
  {
   "cell_type": "code",
   "execution_count": 5,
   "metadata": {},
   "outputs": [
    {
     "data": {
      "text/plain": [
       "array([[ 1,  2,  3,  4,  5,  6,  7,  8,  9, 10],\n",
       "       [11, 12, 13, 14, 15, 16, 17, 18, 19, 20],\n",
       "       [21, 22, 23, 24, 25, 26, 27, 28, 29, 30]])"
      ]
     },
     "execution_count": 5,
     "metadata": {},
     "output_type": "execute_result"
    }
   ],
   "source": [
    "# printing the matrix\n",
    "A"
   ]
  },
  {
   "cell_type": "code",
   "execution_count": 7,
   "metadata": {},
   "outputs": [
    {
     "name": "stdout",
     "output_type": "stream",
     "text": [
      "Reconstructing the approximated version of original matrix\n",
      "[[ 1.  2.  3.  4.  5.  6.  7.  8.  9. 10.]\n",
      " [11. 12. 13. 14. 15. 16. 17. 18. 19. 20.]\n",
      " [21. 22. 23. 24. 25. 26. 27. 28. 29. 30.]]\n",
      "Generating the transformed matrix with low rank\n",
      "[[-18.52157747   6.47697214]\n",
      " [-49.81310011   1.91182038]\n",
      " [-81.10462276  -2.65333138]]\n",
      "Another way of presenting the transformed matrix\n",
      "[[-18.52157747   6.47697214]\n",
      " [-49.81310011   1.91182038]\n",
      " [-81.10462276  -2.65333138]]\n"
     ]
    }
   ],
   "source": [
    "# Singular Value Decomposition\n",
    "U,s,Vt = svd(A)\n",
    "# create mxn Sigma matrix\n",
    "Sigma = np.zeros((A.shape[0],A.shape[1]))\n",
    "# Populate Sigma with zeroes\n",
    "Sigma[:A.shape[0], :A.shape[0]] = np.diag(s)\n",
    "#select of only two features\n",
    "n_elements = 2\n",
    "Sigma = Sigma[:,:n_elements]\n",
    "Vt = Vt[:n_elements,:]\n",
    "#recontruct of original matrix\n",
    "B = U.dot(Sigma.dot(Vt))\n",
    "print('Reconstructing the approximated version of original matrix')\n",
    "print(B)\n",
    "# transform ( a description of original matrix of low rank)\n",
    "T = U.dot(Sigma)\n",
    "print('Generating the transformed matrix with low rank')\n",
    "print(T)\n",
    "# another way of generating the same transformed matrix with low rank\n",
    "T = A.dot(Vt.T)\n",
    "print('Another way of presenting the transformed matrix')\n",
    "print(T)"
   ]
  },
  {
   "cell_type": "code",
   "execution_count": null,
   "metadata": {},
   "outputs": [],
   "source": []
  }
 ],
 "metadata": {
  "kernelspec": {
   "display_name": "Python 3",
   "language": "python",
   "name": "python3"
  },
  "language_info": {
   "codemirror_mode": {
    "name": "ipython",
    "version": 3
   },
   "file_extension": ".py",
   "mimetype": "text/x-python",
   "name": "python",
   "nbconvert_exporter": "python",
   "pygments_lexer": "ipython3",
   "version": "3.7.0"
  }
 },
 "nbformat": 4,
 "nbformat_minor": 2
}
