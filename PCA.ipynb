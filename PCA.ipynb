{
 "cells": [
  {
   "cell_type": "markdown",
   "metadata": {},
   "source": [
    "## PCA and it's implementation in python\n",
    "\n",
    "### What is PCA ? \n",
    "\n",
    "* *According to wikipedia : \"Principal component analysis (PCA) is a statistical procedure that uses an orthogonal transformation to convert a set of observations of possibly correlated variables (entities each of which takes on various numerical values) into a set of values of linearly uncorrelated variables called principal components.\"*\n",
    "\n",
    "\n",
    "* Let's assume you want to predict the GDP for the United States for next year and for that you have lots of data from the current year and from the last 10 years. Your data have all the publicly available economic indicator like inflation rate, unemployment rate, literacy rate, growth and so on.... You've gather censes data for the current year, the stock prices data etc. In short you've so many variable to work with . \n",
    "\n",
    "![](images/data.png)\n",
    "\n",
    "* Now the question that come deal with so many variables. Do we know the relationship between the variables. Do we know which variable/features contribute more in prediction and so on.\n",
    "\n",
    "\n",
    "* If you don't know the answer you might cause your model to overfit( A very common problem in machine learning). \n",
    "\n",
    "\n",
    "* There are basically two approach to go forward one of them is feature elimination that involves removing some of the features from the feature space which it does reduce the data but also the model doesn't gain knowledge from the dropped features.\n",
    "\n",
    "\n",
    "* The other approach is Feature Extraction, it involves creating new features from the combination of old features. Ultimately we keep the new features we want and remove the old features.\n",
    "\n",
    "![](images/pca.png)\n",
    "\n",
    "\n",
    "* PCA is a feature extraction method that reduces the dimension of the feature space by presenting it in 2 dimensions ultimately keeping the most important features that contributes maximum to the model.The features thus formed are known as principal components.\n"
   ]
  },
  {
   "cell_type": "markdown",
   "metadata": {},
   "source": [
    "### Implementation in Python"
   ]
  },
  {
   "cell_type": "code",
   "execution_count": 14,
   "metadata": {},
   "outputs": [],
   "source": [
    "# First we start by importing the necessary library\n",
    "import pandas as pd\n",
    "import numpy as np\n",
    "import matplotlib.pyplot as plt\n",
    "import random as rd\n",
    "from sklearn.decomposition import PCA\n",
    "from sklearn import preprocessing "
   ]
  },
  {
   "cell_type": "markdown",
   "metadata": {},
   "source": [
    "#### Creating Random Data"
   ]
  },
  {
   "cell_type": "code",
   "execution_count": 15,
   "metadata": {},
   "outputs": [],
   "source": [
    "# we create an array of 100 gene name like gene1, gen2 etc\n",
    "genes = ['gene'+str(i) for i in range(1,101)]\n",
    "# then we create two different types of gene samples\n",
    "wt = ['wt'+str(i) for i in range(1,6)]\n",
    "ko = ['ko'+str(i) for i in range(1,6)]"
   ]
  },
  {
   "cell_type": "code",
   "execution_count": 16,
   "metadata": {},
   "outputs": [
    {
     "data": {
      "text/html": [
       "<div>\n",
       "<style scoped>\n",
       "    .dataframe tbody tr th:only-of-type {\n",
       "        vertical-align: middle;\n",
       "    }\n",
       "\n",
       "    .dataframe tbody tr th {\n",
       "        vertical-align: top;\n",
       "    }\n",
       "\n",
       "    .dataframe thead th {\n",
       "        text-align: right;\n",
       "    }\n",
       "</style>\n",
       "<table border=\"1\" class=\"dataframe\">\n",
       "  <thead>\n",
       "    <tr style=\"text-align: right;\">\n",
       "      <th></th>\n",
       "      <th>wt1</th>\n",
       "      <th>wt2</th>\n",
       "      <th>wt3</th>\n",
       "      <th>wt4</th>\n",
       "      <th>wt5</th>\n",
       "      <th>ko1</th>\n",
       "      <th>ko2</th>\n",
       "      <th>ko3</th>\n",
       "      <th>ko4</th>\n",
       "      <th>ko5</th>\n",
       "    </tr>\n",
       "  </thead>\n",
       "  <tbody>\n",
       "    <tr>\n",
       "      <th>gene1</th>\n",
       "      <td>92</td>\n",
       "      <td>103</td>\n",
       "      <td>97</td>\n",
       "      <td>94</td>\n",
       "      <td>95</td>\n",
       "      <td>300</td>\n",
       "      <td>315</td>\n",
       "      <td>323</td>\n",
       "      <td>300</td>\n",
       "      <td>329</td>\n",
       "    </tr>\n",
       "    <tr>\n",
       "      <th>gene2</th>\n",
       "      <td>143</td>\n",
       "      <td>155</td>\n",
       "      <td>161</td>\n",
       "      <td>167</td>\n",
       "      <td>162</td>\n",
       "      <td>177</td>\n",
       "      <td>173</td>\n",
       "      <td>178</td>\n",
       "      <td>174</td>\n",
       "      <td>162</td>\n",
       "    </tr>\n",
       "    <tr>\n",
       "      <th>gene3</th>\n",
       "      <td>548</td>\n",
       "      <td>588</td>\n",
       "      <td>553</td>\n",
       "      <td>549</td>\n",
       "      <td>584</td>\n",
       "      <td>212</td>\n",
       "      <td>272</td>\n",
       "      <td>229</td>\n",
       "      <td>258</td>\n",
       "      <td>255</td>\n",
       "    </tr>\n",
       "    <tr>\n",
       "      <th>gene4</th>\n",
       "      <td>80</td>\n",
       "      <td>82</td>\n",
       "      <td>62</td>\n",
       "      <td>79</td>\n",
       "      <td>65</td>\n",
       "      <td>160</td>\n",
       "      <td>194</td>\n",
       "      <td>180</td>\n",
       "      <td>198</td>\n",
       "      <td>190</td>\n",
       "    </tr>\n",
       "    <tr>\n",
       "      <th>gene5</th>\n",
       "      <td>217</td>\n",
       "      <td>240</td>\n",
       "      <td>222</td>\n",
       "      <td>212</td>\n",
       "      <td>211</td>\n",
       "      <td>785</td>\n",
       "      <td>773</td>\n",
       "      <td>728</td>\n",
       "      <td>789</td>\n",
       "      <td>752</td>\n",
       "    </tr>\n",
       "  </tbody>\n",
       "</table>\n",
       "</div>"
      ],
      "text/plain": [
       "       wt1  wt2  wt3  wt4  wt5  ko1  ko2  ko3  ko4  ko5\n",
       "gene1   92  103   97   94   95  300  315  323  300  329\n",
       "gene2  143  155  161  167  162  177  173  178  174  162\n",
       "gene3  548  588  553  549  584  212  272  229  258  255\n",
       "gene4   80   82   62   79   65  160  194  180  198  190\n",
       "gene5  217  240  222  212  211  785  773  728  789  752"
      ]
     },
     "execution_count": 16,
     "metadata": {},
     "output_type": "execute_result"
    }
   ],
   "source": [
    "# we create a dataframe to store the above created data having columns as gene samples and rows as gene types\n",
    "data = pd.DataFrame(columns = [*wt,*ko],index=genes)\n",
    "\n",
    "# This is where we are actually filling the random data as entries in the dataframe\n",
    "for gene in data.index:\n",
    "    # for each gene type in the index we create 5 random 'wt' values and 5 random 'ko' values. \n",
    "    data.loc[gene,'wt1':'wt5'] = np.random.poisson(lam = rd.randrange(10,1000),size=5)\n",
    "    # the comes from poisson distribution. For each gene type the mean varies from 10 to 1000\n",
    "    data.loc[gene,'ko1':'ko5'] = np.random.poisson(lam = rd.randrange(10,1000),size=5)\n",
    "\n",
    "data.head()"
   ]
  },
  {
   "cell_type": "code",
   "execution_count": 17,
   "metadata": {},
   "outputs": [
    {
     "data": {
      "text/plain": [
       "(100, 10)"
      ]
     },
     "execution_count": 17,
     "metadata": {},
     "output_type": "execute_result"
    }
   ],
   "source": [
    "# returns the dimension of dataset\n",
    "data.shape"
   ]
  },
  {
   "cell_type": "markdown",
   "metadata": {},
   "source": [
    "#### Let's do PCA"
   ]
  },
  {
   "cell_type": "code",
   "execution_count": 18,
   "metadata": {},
   "outputs": [],
   "source": [
    "# first let's center and scale the data. The data is require to have zero mean(centering) ans unit standard deviation(scaling)\n",
    "scaled_data = preprocessing.scale(data.T)\n",
    "# we then create PCA object.\n",
    "pca = PCA()\n",
    "# we call the fit method that does the PCA i.e calculating loading scores and the variation each principal component account for.\n",
    "pca.fit(scaled_data)\n",
    "# this method genrates the coordinates for PCA graph using the loading score and scaled data.\n",
    "pca_data = pca.transform(scaled_data)"
   ]
  },
  {
   "cell_type": "code",
   "execution_count": 19,
   "metadata": {},
   "outputs": [],
   "source": [
    "# we calculate the precentage of variation each principal component account for.\n",
    "per_var = np.round(pca.explained_variance_ratio_*100,decimals=1)\n",
    "# here we genrate names as labels for each principal component\n",
    "labels = ['PC'+str(x) for x in range(1,len(per_var)+1)]"
   ]
  },
  {
   "cell_type": "markdown",
   "metadata": {},
   "source": [
    "#### Plotting the scree plot to find the principal components."
   ]
  },
  {
   "cell_type": "code",
   "execution_count": 20,
   "metadata": {},
   "outputs": [
    {
     "data": {
      "image/png": "[encoded data removed]",
      "text/plain": [
       "<Figure size 432x288 with 1 Axes>"
      ]
     },
     "metadata": {
      "needs_background": "light"
     },
     "output_type": "display_data"
    }
   ],
   "source": [
    "%matplotlib inline\n",
    "plt.bar(x = range(1,len(per_var)+1), height = per_var,tick_label = labels)\n",
    "plt.ylabel('Percentage of Explained Variance')\n",
    "plt.xlabel('Principal Components')\n",
    "plt.title('Scree Plot')\n",
    "plt.show()"
   ]
  },
  {
   "cell_type": "markdown",
   "metadata": {},
   "source": [
    "* We can see PC1 describes almost all the variation in the dataset. So we can plot a 2D graph using PC1 and PC2 ."
   ]
  },
  {
   "cell_type": "code",
   "execution_count": 21,
   "metadata": {},
   "outputs": [
    {
     "data": {
      "image/png": "[encoded data removed]",
      "text/plain": [
       "<Figure size 432x288 with 1 Axes>"
      ]
     },
     "metadata": {
      "needs_background": "light"
     },
     "output_type": "display_data"
    }
   ],
   "source": [
    "# to plot PCA graph we put new coordinates into a dataframe with rows as gene type and column as PC labels\n",
    "pca_df = pd.DataFrame(pca_data, index = [*wt,*ko], columns = labels)\n",
    "plt.scatter(pca_df.PC1,pca_df.PC2)\n",
    "plt.title('My PCA Graph')\n",
    "plt.xlabel('PC1 - {0}%'.format(per_var[0]))\n",
    "plt.ylabel('PC2 - {0}%'.format(per_var[1]))\n",
    "\n",
    "for sample in pca_df.index:\n",
    "    # this loop adds sample data names to the graph\n",
    "    plt.annotate(sample, (pca_df.PC1.loc[sample],pca_df.PC2.loc[sample]))\n",
    "    \n",
    "plt.show()"
   ]
  },
  {
   "cell_type": "markdown",
   "metadata": {},
   "source": [
    "* The ko sample clustered along each other suggests that they correlate to each other. The same goes for wt samples they clustered together.The separation between the clusters along the x axis shows that both the clusters are very different from each other."
   ]
  },
  {
   "cell_type": "markdown",
   "metadata": {},
   "source": [
    "#### Determining which gene in PC1 has the maximum influence in the separation between PC1 and PC2."
   ]
  },
  {
   "cell_type": "code",
   "execution_count": 24,
   "metadata": {},
   "outputs": [
    {
     "data": {
      "text/plain": [
       "gene85    0.107396\n",
       "gene11    0.107385\n",
       "gene61    0.107375\n",
       "gene24    0.107369\n",
       "gene51   -0.107364\n",
       "gene25    0.107358\n",
       "gene60   -0.107340\n",
       "gene89   -0.107338\n",
       "gene10   -0.107322\n",
       "gene30   -0.107313\n",
       "dtype: float64"
      ]
     },
     "execution_count": 24,
     "metadata": {},
     "output_type": "execute_result"
    }
   ],
   "source": [
    "# first we calculate the laoding scores in PC1.\n",
    "loading_scores = pd.Series(pca.components_[0],index=genes)\n",
    "# then we sort the values in decreasing manner.\n",
    "sorted_loading_scores  = loading_scores.abs().sort_values(ascending = False)\n",
    "# we take the top 10 indexes i.e gene names\n",
    "top_10_gene = sorted_loading_scores[:10].index.values\n",
    "# lastly we print the gene name along with the loading scores.\n",
    "loading_scores[top_10_gene]"
   ]
  },
  {
   "cell_type": "markdown",
   "metadata": {},
   "source": [
    "* we can see lot of similar scores which means that a lot genes contributes to the separation of PC1 from PC2."
   ]
  },
  {
   "cell_type": "code",
   "execution_count": null,
   "metadata": {},
   "outputs": [],
   "source": []
  }
 ],
 "metadata": {
  "kernelspec": {
   "display_name": "Python 3",
   "language": "python",
   "name": "python3"
  },
  "language_info": {
   "codemirror_mode": {
    "name": "ipython",
    "version": 3
   },
   "file_extension": ".py",
   "mimetype": "text/x-python",
   "name": "python",
   "nbconvert_exporter": "python",
   "pygments_lexer": "ipython3",
   "version": "3.7.0"
  }
 },
 "nbformat": 4,
 "nbformat_minor": 2
}
